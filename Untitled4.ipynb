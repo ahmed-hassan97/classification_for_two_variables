{
  "nbformat": 4,
  "nbformat_minor": 0,
  "metadata": {
    "colab": {
      "name": "Untitled4.ipynb",
      "provenance": [],
      "authorship_tag": "ABX9TyM65scTspUpzgDcKr24Emtt",
      "include_colab_link": true
    },
    "kernelspec": {
      "name": "python3",
      "display_name": "Python 3"
    },
    "accelerator": "GPU"
  },
  "cells": [
    {
      "cell_type": "markdown",
      "metadata": {
        "id": "view-in-github",
        "colab_type": "text"
      },
      "source": [
        "<a href=\"https://colab.research.google.com/github/ahmedhassan97/classification_for_two_variables/blob/master/Untitled4.ipynb\" target=\"_parent\"><img src=\"https://colab.research.google.com/assets/colab-badge.svg\" alt=\"Open In Colab\"/></a>"
      ]
    },
    {
      "cell_type": "code",
      "metadata": {
        "id": "LkPsO0dbYdHY",
        "colab_type": "code",
        "colab": {}
      },
      "source": [
        "import numpy as np\n",
        "import pandas as pd\n",
        "import matplotlib.pyplot as plt"
      ],
      "execution_count": 0,
      "outputs": []
    },
    {
      "cell_type": "code",
      "metadata": {
        "id": "YAck4ngBZ36w",
        "colab_type": "code",
        "colab": {}
      },
      "source": [
        "path = 'data.csv'\n",
        "data = pd.read_csv(path, header=None, names=['Exam 1',\n",
        "'Exam 2', 'Admitted'])"
      ],
      "execution_count": 0,
      "outputs": []
    },
    {
      "cell_type": "code",
      "metadata": {
        "id": "fRZ8TPZmabBp",
        "colab_type": "code",
        "outputId": "f2c28270-6937-4be9-a1dd-2751989812e3",
        "colab": {
          "base_uri": "https://localhost:8080/",
          "height": 408
        }
      },
      "source": [
        "print('data = ')\n",
        "print(data.head(10) )\n",
        "print()\n",
        "print('data.describe = ')\n",
        "print(data.describe())"
      ],
      "execution_count": 44,
      "outputs": [
        {
          "output_type": "stream",
          "text": [
            "data = \n",
            "      Exam 1     Exam 2  Admitted\n",
            "0  34.623660  78.024693         0\n",
            "1  30.286711  43.894998         0\n",
            "2  35.847409  72.902198         0\n",
            "3  60.182599  86.308552         1\n",
            "4  79.032736  75.344376         1\n",
            "5  45.083277  56.316372         0\n",
            "6  61.106665  96.511426         1\n",
            "7  75.024746  46.554014         1\n",
            "8  76.098787  87.420570         1\n",
            "9  84.432820  43.533393         1\n",
            "\n",
            "data.describe = \n",
            "           Exam 1      Exam 2    Admitted\n",
            "count  100.000000  100.000000  100.000000\n",
            "mean    65.644274   66.221998    0.600000\n",
            "std     19.458222   18.582783    0.492366\n",
            "min     30.058822   30.603263    0.000000\n",
            "25%     50.919511   48.179205    0.000000\n",
            "50%     67.032988   67.682381    1.000000\n",
            "75%     80.212529   79.360605    1.000000\n",
            "max     99.827858   98.869436    1.000000\n"
          ],
          "name": "stdout"
        }
      ]
    },
    {
      "cell_type": "code",
      "metadata": {
        "id": "o25CX5KgbDhG",
        "colab_type": "code",
        "outputId": "3bcdf719-5471-4541-e1ed-47461d305d70",
        "colab": {
          "base_uri": "https://localhost:8080/",
          "height": 748
        }
      },
      "source": [
        "positive = data[data['Admitted'].isin([1])]\n",
        "negative = data[data['Admitted'].isin([0])]\n",
        "print(\"data positive is : \\n\")\n",
        "#print student which failed\n",
        "print(negative)\n",
        "#print(positive)\n"
      ],
      "execution_count": 45,
      "outputs": [
        {
          "output_type": "stream",
          "text": [
            "data positive is : \n",
            "\n",
            "       Exam 1     Exam 2  Admitted\n",
            "0   34.623660  78.024693         0\n",
            "1   30.286711  43.894998         0\n",
            "2   35.847409  72.902198         0\n",
            "5   45.083277  56.316372         0\n",
            "10  95.861555  38.225278         0\n",
            "11  75.013658  30.603263         0\n",
            "14  39.538339  76.036811         0\n",
            "17  67.946855  46.678574         0\n",
            "20  67.372028  42.838438         0\n",
            "22  50.534788  48.855812         0\n",
            "23  34.212061  44.209529         0\n",
            "27  93.114389  38.800670         0\n",
            "28  61.830206  50.256108         0\n",
            "29  38.785804  64.995681         0\n",
            "32  52.107980  63.127624         0\n",
            "34  40.236894  71.167748         0\n",
            "35  54.635106  52.213886         0\n",
            "36  33.915500  98.869436         0\n",
            "38  74.789253  41.573415         0\n",
            "39  34.183640  75.237720         0\n",
            "41  51.547720  46.856290         0\n",
            "43  82.368754  40.618255         0\n",
            "44  51.047752  45.822701         0\n",
            "45  62.222676  52.060992         0\n",
            "53  34.524514  60.396342         0\n",
            "54  50.286496  49.804539         0\n",
            "55  49.586677  59.808951         0\n",
            "57  32.577200  95.598548         0\n",
            "61  35.286113  47.020514         0\n",
            "62  56.253817  39.261473         0\n",
            "63  30.058822  49.592974         0\n",
            "64  44.668262  66.450086         0\n",
            "65  66.560894  41.092098         0\n",
            "67  49.072563  51.883212         0\n",
            "70  32.722833  43.307173         0\n",
            "78  60.455556  42.508409         0\n",
            "79  82.226662  42.719879         0\n",
            "86  42.075455  78.844786         0\n",
            "89  52.348004  60.769505         0\n",
            "92  55.482161  35.570703         0\n"
          ],
          "name": "stdout"
        }
      ]
    },
    {
      "cell_type": "code",
      "metadata": {
        "id": "qi6yMEJxbqm3",
        "colab_type": "code",
        "outputId": "b5516fd0-f8d3-4613-ef51-c6bbf0e5ba73",
        "colab": {
          "base_uri": "https://localhost:8080/",
          "height": 351
        }
      },
      "source": [
        "fig, ax = plt.subplots(figsize=(5,5))\n",
        "ax.scatter(positive['Exam 1'], positive['Exam 2'], s=50, c='b',\n",
        "marker='o', label='Admitted')\n",
        "ax.scatter(negative['Exam 1'], negative['Exam 2'], s=50, c='r',\n",
        "marker='x', label='Not Admitted')\n",
        "ax.legend()\n",
        "ax.set_xlabel('Exam 1 Score')\n",
        "ax.set_ylabel('Exam 2 Score')"
      ],
      "execution_count": 46,
      "outputs": [
        {
          "output_type": "execute_result",
          "data": {
            "text/plain": [
              "Text(0, 0.5, 'Exam 2 Score')"
            ]
          },
          "metadata": {
            "tags": []
          },
          "execution_count": 46
        },
        {
          "output_type": "display_data",
          "data": {
            "image/png": "[encoded data removed]",
            "text/plain": [
              "<Figure size 360x360 with 1 Axes>"
            ]
          },
          "metadata": {
            "tags": []
          }
        }
      ]
    },
    {
      "cell_type": "code",
      "metadata": {
        "id": "UCHFtmBccVRs",
        "colab_type": "code",
        "colab": {}
      },
      "source": [
        "def sigmoid(z):\n",
        " return 1 / (1 + np.exp(-z))"
      ],
      "execution_count": 0,
      "outputs": []
    },
    {
      "cell_type": "code",
      "metadata": {
        "id": "9XMXp8c6cdBw",
        "colab_type": "code",
        "outputId": "9d4101c7-bc4b-4a89-df4c-f0289f539c89",
        "colab": {
          "base_uri": "https://localhost:8080/",
          "height": 337
        }
      },
      "source": [
        "nums = np.arange(-10, 10, step=1)\n",
        "fig, ax = plt.subplots(figsize=(5,5))\n",
        "ax.plot(nums, sigmoid(nums), 'r')"
      ],
      "execution_count": 48,
      "outputs": [
        {
          "output_type": "execute_result",
          "data": {
            "text/plain": [
              "[<matplotlib.lines.Line2D at 0x7f94c25531d0>]"
            ]
          },
          "metadata": {
            "tags": []
          },
          "execution_count": 48
        },
        {
          "output_type": "display_data",
          "data": {
            "image/png": "[encoded data removed]",
            "text/plain": [
              "<Figure size 360x360 with 1 Axes>"
            ]
          },
          "metadata": {
            "tags": []
          }
        }
      ]
    },
    {
      "cell_type": "code",
      "metadata": {
        "id": "9sutyWQdITUs",
        "colab_type": "code",
        "colab": {}
      },
      "source": [
        "def cost(theta, X, y):\n",
        "    theta = np.matrix(theta)\n",
        "    X = np.matrix(X)\n",
        "    y = np.matrix(y)\n",
        "    first = np.multiply(-y, np.log(sigmoid(X * theta.T)))\n",
        "    second = np.multiply((1 - y), np.log(1 - sigmoid(X *\n",
        "    theta.T)))\n",
        "    print(len(X))\n",
        "    return np.sum(first - second) / (len(X))"
      ],
      "execution_count": 0,
      "outputs": []
    },
    {
      "cell_type": "code",
      "metadata": {
        "id": "-_dpQwWDKhK-",
        "colab_type": "code",
        "colab": {}
      },
      "source": [
        "# add a ones column - this makes the matrix multiplication work out easier\n",
        " data.insert(0, 'Ones', 1)"
      ],
      "execution_count": 0,
      "outputs": []
    },
    {
      "cell_type": "code",
      "metadata": {
        "id": "5cdaPZkCKn9a",
        "colab_type": "code",
        "colab": {
          "base_uri": "https://localhost:8080/",
          "height": 1000
        },
        "outputId": "6f50e240-76a2-4dd0-d6bd-59baff2cda6f"
      },
      "source": [
        "# set X (training data) and y (target variable)\n",
        "cols = data.shape[1]\n",
        "X = data.iloc[:,0:cols-1]\n",
        "y = data.iloc[:,cols-1:cols]\n",
        "# convert to numpy arrays and initalize the parameter array theta\n",
        "\n",
        "print(\"data which predicted : \\n\")\n",
        "X = np.array(X.values)\n",
        "print(X)\n",
        "\n",
        "print(\"output is  : \\n\")\n",
        "\n",
        "y = np.array(y.values)\n",
        "print(y)\n",
        "\n",
        "theta = np.zeros(3)\n",
        "print(theta)\n",
        "print()\n",
        "print('X.shape = ' , X.shape)\n",
        "print('theta.shape = ' , theta.shape)\n",
        "print('y.shape = ' , y.shape)\n",
        "\n",
        "\n",
        "\n"
      ],
      "execution_count": 68,
      "outputs": [
        {
          "output_type": "stream",
          "text": [
            "data which predicted : \n",
            "\n",
            "[[ 1.         34.62365962 78.02469282]\n",
            " [ 1.         30.28671077 43.89499752]\n",
            " [ 1.         35.84740877 72.90219803]\n",
            " [ 1.         60.18259939 86.3085521 ]\n",
            " [ 1.         79.03273605 75.34437644]\n",
            " [ 1.         45.08327748 56.31637178]\n",
            " [ 1.         61.10666454 96.51142588]\n",
            " [ 1.         75.02474557 46.55401354]\n",
            " [ 1.         76.0987867  87.42056972]\n",
            " [ 1.         84.43281996 43.53339331]\n",
            " [ 1.         95.86155507 38.22527806]\n",
            " [ 1.         75.01365839 30.60326323]\n",
            " [ 1.         82.30705337 76.4819633 ]\n",
            " [ 1.         69.36458876 97.71869196]\n",
            " [ 1.         39.53833914 76.03681085]\n",
            " [ 1.         53.97105215 89.20735014]\n",
            " [ 1.         69.07014406 52.74046973]\n",
            " [ 1.         67.94685548 46.67857411]\n",
            " [ 1.         70.66150955 92.92713789]\n",
            " [ 1.         76.97878373 47.57596365]\n",
            " [ 1.         67.37202755 42.83843832]\n",
            " [ 1.         89.67677575 65.79936593]\n",
            " [ 1.         50.53478829 48.85581153]\n",
            " [ 1.         34.21206098 44.2095286 ]\n",
            " [ 1.         77.92409145 68.97235999]\n",
            " [ 1.         62.27101367 69.95445795]\n",
            " [ 1.         80.19018075 44.82162893]\n",
            " [ 1.         93.1143888  38.80067034]\n",
            " [ 1.         61.83020602 50.25610789]\n",
            " [ 1.         38.7858038  64.99568096]\n",
            " [ 1.         61.37928945 72.80788731]\n",
            " [ 1.         85.40451939 57.05198398]\n",
            " [ 1.         52.10797973 63.12762377]\n",
            " [ 1.         52.04540477 69.43286012]\n",
            " [ 1.         40.23689374 71.16774802]\n",
            " [ 1.         54.63510555 52.21388588]\n",
            " [ 1.         33.91550011 98.86943574]\n",
            " [ 1.         64.17698887 80.90806059]\n",
            " [ 1.         74.78925296 41.57341523]\n",
            " [ 1.         34.18364003 75.23772034]\n",
            " [ 1.         83.90239366 56.30804622]\n",
            " [ 1.         51.54772027 46.85629026]\n",
            " [ 1.         94.44336777 65.56892161]\n",
            " [ 1.         82.36875376 40.61825516]\n",
            " [ 1.         51.04775177 45.82270146]\n",
            " [ 1.         62.22267576 52.06099195]\n",
            " [ 1.         77.19303493 70.4582    ]\n",
            " [ 1.         97.77159928 86.72782233]\n",
            " [ 1.         62.0730638  96.76882412]\n",
            " [ 1.         91.5649745  88.69629255]\n",
            " [ 1.         79.94481794 74.16311935]\n",
            " [ 1.         99.27252693 60.999031  ]\n",
            " [ 1.         90.54671411 43.39060181]\n",
            " [ 1.         34.52451385 60.39634246]\n",
            " [ 1.         50.28649612 49.80453881]\n",
            " [ 1.         49.58667722 59.80895099]\n",
            " [ 1.         97.64563396 68.86157272]\n",
            " [ 1.         32.57720017 95.59854761]\n",
            " [ 1.         74.24869137 69.82457123]\n",
            " [ 1.         71.79646206 78.45356225]\n",
            " [ 1.         75.39561147 85.75993667]\n",
            " [ 1.         35.28611282 47.02051395]\n",
            " [ 1.         56.2538175  39.26147251]\n",
            " [ 1.         30.05882245 49.59297387]\n",
            " [ 1.         44.66826172 66.45008615]\n",
            " [ 1.         66.56089447 41.09209808]\n",
            " [ 1.         40.45755098 97.53518549]\n",
            " [ 1.         49.07256322 51.88321182]\n",
            " [ 1.         80.27957401 92.11606081]\n",
            " [ 1.         66.74671857 60.99139403]\n",
            " [ 1.         32.72283304 43.30717306]\n",
            " [ 1.         64.03932042 78.03168802]\n",
            " [ 1.         72.34649423 96.22759297]\n",
            " [ 1.         60.45788574 73.0949981 ]\n",
            " [ 1.         58.84095622 75.85844831]\n",
            " [ 1.         99.8278578  72.36925193]\n",
            " [ 1.         47.26426911 88.475865  ]\n",
            " [ 1.         50.4581598  75.80985953]\n",
            " [ 1.         60.45555629 42.50840944]\n",
            " [ 1.         82.22666158 42.71987854]\n",
            " [ 1.         88.91389642 69.8037889 ]\n",
            " [ 1.         94.83450672 45.6943068 ]\n",
            " [ 1.         67.31925747 66.58935318]\n",
            " [ 1.         57.23870632 59.51428198]\n",
            " [ 1.         80.366756   90.9601479 ]\n",
            " [ 1.         68.46852179 85.5943071 ]\n",
            " [ 1.         42.07545454 78.844786  ]\n",
            " [ 1.         75.47770201 90.424539  ]\n",
            " [ 1.         78.63542435 96.64742717]\n",
            " [ 1.         52.34800399 60.76950526]\n",
            " [ 1.         94.09433113 77.15910509]\n",
            " [ 1.         90.44855097 87.50879176]\n",
            " [ 1.         55.48216114 35.57070347]\n",
            " [ 1.         74.49269242 84.84513685]\n",
            " [ 1.         89.84580671 45.35828361]\n",
            " [ 1.         83.48916274 48.3802858 ]\n",
            " [ 1.         42.26170081 87.10385094]\n",
            " [ 1.         99.31500881 68.77540947]\n",
            " [ 1.         55.34001756 64.93193801]\n",
            " [ 1.         74.775893   89.5298129 ]]\n",
            "output is  : \n",
            "\n",
            "[[0]\n",
            " [0]\n",
            " [0]\n",
            " [1]\n",
            " [1]\n",
            " [0]\n",
            " [1]\n",
            " [1]\n",
            " [1]\n",
            " [1]\n",
            " [0]\n",
            " [0]\n",
            " [1]\n",
            " [1]\n",
            " [0]\n",
            " [1]\n",
            " [1]\n",
            " [0]\n",
            " [1]\n",
            " [1]\n",
            " [0]\n",
            " [1]\n",
            " [0]\n",
            " [0]\n",
            " [1]\n",
            " [1]\n",
            " [1]\n",
            " [0]\n",
            " [0]\n",
            " [0]\n",
            " [1]\n",
            " [1]\n",
            " [0]\n",
            " [1]\n",
            " [0]\n",
            " [0]\n",
            " [0]\n",
            " [1]\n",
            " [0]\n",
            " [0]\n",
            " [1]\n",
            " [0]\n",
            " [1]\n",
            " [0]\n",
            " [0]\n",
            " [0]\n",
            " [1]\n",
            " [1]\n",
            " [1]\n",
            " [1]\n",
            " [1]\n",
            " [1]\n",
            " [1]\n",
            " [0]\n",
            " [0]\n",
            " [0]\n",
            " [1]\n",
            " [0]\n",
            " [1]\n",
            " [1]\n",
            " [1]\n",
            " [0]\n",
            " [0]\n",
            " [0]\n",
            " [0]\n",
            " [0]\n",
            " [1]\n",
            " [0]\n",
            " [1]\n",
            " [1]\n",
            " [0]\n",
            " [1]\n",
            " [1]\n",
            " [1]\n",
            " [1]\n",
            " [1]\n",
            " [1]\n",
            " [1]\n",
            " [0]\n",
            " [0]\n",
            " [1]\n",
            " [1]\n",
            " [1]\n",
            " [1]\n",
            " [1]\n",
            " [1]\n",
            " [0]\n",
            " [1]\n",
            " [1]\n",
            " [0]\n",
            " [1]\n",
            " [1]\n",
            " [0]\n",
            " [1]\n",
            " [1]\n",
            " [1]\n",
            " [1]\n",
            " [1]\n",
            " [1]\n",
            " [1]]\n",
            "[0. 0. 0.]\n",
            "\n",
            "X.shape =  (100, 3)\n",
            "theta.shape =  (3,)\n",
            "y.shape =  (100, 1)\n"
          ],
          "name": "stdout"
        }
      ]
    },
    {
      "cell_type": "code",
      "metadata": {
        "id": "5g0BsbZkRCm7",
        "colab_type": "code",
        "colab": {}
      },
      "source": [
        "y1=X\n",
        "\n"
      ],
      "execution_count": 0,
      "outputs": []
    },
    {
      "cell_type": "code",
      "metadata": {
        "id": "0qdmYfd_RoL4",
        "colab_type": "code",
        "colab": {
          "base_uri": "https://localhost:8080/",
          "height": 51
        },
        "outputId": "c0987688-d73e-4687-b968-6b1f93dfee00"
      },
      "source": [
        "thiscost = cost(theta, y1, y)\n",
        "print('cost = ' , thiscost)"
      ],
      "execution_count": 80,
      "outputs": [
        {
          "output_type": "stream",
          "text": [
            "100\n",
            "cost =  0.6931471805599453\n"
          ],
          "name": "stdout"
        }
      ]
    },
    {
      "cell_type": "code",
      "metadata": {
        "id": "Oi_89z9tSNQk",
        "colab_type": "code",
        "colab": {}
      },
      "source": [
        "def gradient(theta, X, y):\n",
        "  theta = np.matrix(theta)\n",
        "  X = np.matrix(X)\n",
        "  y = np.matrix(y)\n",
        "  parameters = int(theta.ravel().shape[1])\n",
        "  grad = np.zeros(parameters)\n",
        "  error = sigmoid(X * theta.T) - y\n",
        "  for i in range(parameters):\n",
        "    term = np.multiply(error, X[:,i])\n",
        "    grad[i] = np.sum(term) / len(X)\n",
        "    print(\"gradient is = \",grad)\n",
        "  return grad\n"
      ],
      "execution_count": 0,
      "outputs": []
    },
    {
      "cell_type": "code",
      "metadata": {
        "id": "pGEtISRZXvIp",
        "colab_type": "code",
        "colab": {}
      },
      "source": [
        ""
      ],
      "execution_count": 0,
      "outputs": []
    },
    {
      "cell_type": "code",
      "metadata": {
        "id": "DO5O5tANV644",
        "colab_type": "code",
        "colab": {
          "base_uri": "https://localhost:8080/",
          "height": 714
        },
        "outputId": "591ae0d7-ab9d-49e8-bc48-ec63b3b00e33"
      },
      "source": [
        "import scipy.optimize as opt\n",
        "result = opt.fmin_tnc(func=cost, x0=theta, fprime=gradient,\n",
        "args=(X, y))\n",
        "print(\"result is =\",result)\n",
        "costafteroptimize = cost(result[0], X, y)\n",
        "print()\n",
        "print('cost after optimize = ' , costafteroptimize)"
      ],
      "execution_count": 84,
      "outputs": [
        {
          "output_type": "stream",
          "text": [
            "100\n",
            "100\n",
            "100\n",
            "100\n",
            "100\n",
            "100\n",
            "100\n",
            "100\n",
            "100\n",
            "100\n",
            "100\n",
            "100\n",
            "100\n",
            "100\n",
            "100\n",
            "100\n",
            "100\n",
            "100\n",
            "100\n",
            "100\n",
            "100\n",
            "100\n",
            "100\n",
            "100\n",
            "100\n",
            "100\n",
            "100\n",
            "100\n",
            "100\n",
            "100\n",
            "100\n",
            "100\n",
            "100\n",
            "100\n",
            "100\n",
            "100\n",
            "100\n",
            "result is = (array([-25.16131863,   0.20623159,   0.20147149]), 36, 0)\n",
            "100\n",
            "\n",
            "cost after optimize =  0.20349770158947458\n"
          ],
          "name": "stdout"
        }
      ]
    },
    {
      "cell_type": "code",
      "metadata": {
        "id": "ZNeL-hG3Xw65",
        "colab_type": "code",
        "colab": {}
      },
      "source": [
        "def predict(theta, X):\n",
        "  probability = sigmoid(X * theta.T)\n",
        "  return [1 if x >= 0.5 else 0 for x in probability]\n",
        "theta_min = np.matrix(result[0])\n",
        "predictions = predict(theta_min, X)\n",
        "correct = [1 if ((a == 1 and b == 1) or (a == 0 and b == 0)) else\n",
        "0 for (a, b) in zip(predictions, y)]"
      ],
      "execution_count": 0,
      "outputs": []
    },
    {
      "cell_type": "code",
      "metadata": {
        "id": "qov2kRRtYIuf",
        "colab_type": "code",
        "colab": {
          "base_uri": "https://localhost:8080/",
          "height": 34
        },
        "outputId": "56483afc-ff95-4107-e5f6-169c48d7166b"
      },
      "source": [
        "accuracy = (sum(map(int, correct)) % len(correct))\n",
        "print ('accuracy = {0}%'.format(accuracy))"
      ],
      "execution_count": 87,
      "outputs": [
        {
          "output_type": "stream",
          "text": [
            "accuracy = 89%\n"
          ],
          "name": "stdout"
        }
      ]
    },
    {
      "cell_type": "code",
      "metadata": {
        "id": "9CsU4Tb9YNaD",
        "colab_type": "code",
        "colab": {}
      },
      "source": [
        "# this project is classification two student based on two exams and predict which one is succeed or failed"
      ],
      "execution_count": 0,
      "outputs": []
    }
  ]
}