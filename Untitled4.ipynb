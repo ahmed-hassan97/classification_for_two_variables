{
  "nbformat": 4,
  "nbformat_minor": 0,
  "metadata": {
    "colab": {
      "name": "Untitled4.ipynb",
      "provenance": [],
      "authorship_tag": "ABX9TyNx+MUd6+ggVSjPXi9Zn0qj",
      "include_colab_link": true
    },
    "kernelspec": {
      "name": "python3",
      "display_name": "Python 3"
    },
    "accelerator": "GPU"
  },
  "cells": [
    {
      "cell_type": "markdown",
      "metadata": {
        "id": "view-in-github",
        "colab_type": "text"
      },
      "source": [
        "<a href=\"https://colab.research.google.com/github/ahmedhassan97/classification_for_two_variables/blob/master/Untitled4.ipynb\" target=\"_parent\"><img src=\"https://colab.research.google.com/assets/colab-badge.svg\" alt=\"Open In Colab\"/></a>"
      ]
    },
    {
      "cell_type": "code",
      "metadata": {
        "id": "LkPsO0dbYdHY",
        "colab_type": "code",
        "colab": {}
      },
      "source": [
        "import numpy as np\n",
        "import pandas as pd\n",
        "import matplotlib.pyplot as plt"
      ],
      "execution_count": 0,
      "outputs": []
    },
    {
      "cell_type": "code",
      "metadata": {
        "id": "YAck4ngBZ36w",
        "colab_type": "code",
        "colab": {}
      },
      "source": [
        "path = 'data.csv'\n",
        "data = pd.read_csv(path, header=None, names=['Exam 1',\n",
        "'Exam 2', 'Admitted'])"
      ],
      "execution_count": 0,
      "outputs": []
    },
    {
      "cell_type": "code",
      "metadata": {
        "id": "fRZ8TPZmabBp",
        "colab_type": "code",
        "colab": {
          "base_uri": "https://localhost:8080/",
          "height": 408
        },
        "outputId": "337f5f9a-38fd-434f-faa3-40aa89f82093"
      },
      "source": [
        "print('data = ')\n",
        "print(data.head(10) )\n",
        "print()\n",
        "print('data.describe = ')\n",
        "print(data.describe())"
      ],
      "execution_count": 4,
      "outputs": [
        {
          "output_type": "stream",
          "text": [
            "data = \n",
            "      Exam 1     Exam 2  Admitted\n",
            "0  34.623660  78.024693         0\n",
            "1  30.286711  43.894998         0\n",
            "2  35.847409  72.902198         0\n",
            "3  60.182599  86.308552         1\n",
            "4  79.032736  75.344376         1\n",
            "5  45.083277  56.316372         0\n",
            "6  61.106665  96.511426         1\n",
            "7  75.024746  46.554014         1\n",
            "8  76.098787  87.420570         1\n",
            "9  84.432820  43.533393         1\n",
            "\n",
            "data.describe = \n",
            "           Exam 1      Exam 2    Admitted\n",
            "count  100.000000  100.000000  100.000000\n",
            "mean    65.644274   66.221998    0.600000\n",
            "std     19.458222   18.582783    0.492366\n",
            "min     30.058822   30.603263    0.000000\n",
            "25%     50.919511   48.179205    0.000000\n",
            "50%     67.032988   67.682381    1.000000\n",
            "75%     80.212529   79.360605    1.000000\n",
            "max     99.827858   98.869436    1.000000\n"
          ],
          "name": "stdout"
        }
      ]
    },
    {
      "cell_type": "code",
      "metadata": {
        "id": "o25CX5KgbDhG",
        "colab_type": "code",
        "colab": {
          "base_uri": "https://localhost:8080/",
          "height": 748
        },
        "outputId": "c040f873-f7ef-48a8-a49a-b7c87151a2e6"
      },
      "source": [
        "positive = data[data['Admitted'].isin([1])]\n",
        "negative = data[data['Admitted'].isin([0])]\n",
        "print(\"data positive is : \\n\")\n",
        "#print student which failed\n",
        "print(negative)\n",
        "#print(positive)\n"
      ],
      "execution_count": 8,
      "outputs": [
        {
          "output_type": "stream",
          "text": [
            "data positive is : \n",
            "\n",
            "       Exam 1     Exam 2  Admitted\n",
            "0   34.623660  78.024693         0\n",
            "1   30.286711  43.894998         0\n",
            "2   35.847409  72.902198         0\n",
            "5   45.083277  56.316372         0\n",
            "10  95.861555  38.225278         0\n",
            "11  75.013658  30.603263         0\n",
            "14  39.538339  76.036811         0\n",
            "17  67.946855  46.678574         0\n",
            "20  67.372028  42.838438         0\n",
            "22  50.534788  48.855812         0\n",
            "23  34.212061  44.209529         0\n",
            "27  93.114389  38.800670         0\n",
            "28  61.830206  50.256108         0\n",
            "29  38.785804  64.995681         0\n",
            "32  52.107980  63.127624         0\n",
            "34  40.236894  71.167748         0\n",
            "35  54.635106  52.213886         0\n",
            "36  33.915500  98.869436         0\n",
            "38  74.789253  41.573415         0\n",
            "39  34.183640  75.237720         0\n",
            "41  51.547720  46.856290         0\n",
            "43  82.368754  40.618255         0\n",
            "44  51.047752  45.822701         0\n",
            "45  62.222676  52.060992         0\n",
            "53  34.524514  60.396342         0\n",
            "54  50.286496  49.804539         0\n",
            "55  49.586677  59.808951         0\n",
            "57  32.577200  95.598548         0\n",
            "61  35.286113  47.020514         0\n",
            "62  56.253817  39.261473         0\n",
            "63  30.058822  49.592974         0\n",
            "64  44.668262  66.450086         0\n",
            "65  66.560894  41.092098         0\n",
            "67  49.072563  51.883212         0\n",
            "70  32.722833  43.307173         0\n",
            "78  60.455556  42.508409         0\n",
            "79  82.226662  42.719879         0\n",
            "86  42.075455  78.844786         0\n",
            "89  52.348004  60.769505         0\n",
            "92  55.482161  35.570703         0\n"
          ],
          "name": "stdout"
        }
      ]
    },
    {
      "cell_type": "code",
      "metadata": {
        "id": "qi6yMEJxbqm3",
        "colab_type": "code",
        "colab": {
          "base_uri": "https://localhost:8080/",
          "height": 351
        },
        "outputId": "c5d74a8e-1303-4178-ed3d-711811a0e693"
      },
      "source": [
        "fig, ax = plt.subplots(figsize=(5,5))\n",
        "ax.scatter(positive['Exam 1'], positive['Exam 2'], s=50, c='b',\n",
        "marker='o', label='Admitted')\n",
        "ax.scatter(negative['Exam 1'], negative['Exam 2'], s=50, c='r',\n",
        "marker='x', label='Not Admitted')\n",
        "ax.legend()\n",
        "ax.set_xlabel('Exam 1 Score')\n",
        "ax.set_ylabel('Exam 2 Score')"
      ],
      "execution_count": 9,
      "outputs": [
        {
          "output_type": "execute_result",
          "data": {
            "text/plain": [
              "Text(0, 0.5, 'Exam 2 Score')"
            ]
          },
          "metadata": {
            "tags": []
          },
          "execution_count": 9
        },
        {
          "output_type": "display_data",
          "data": {
            "image/png": "[encoded data removed]",
            "text/plain": [
              "<Figure size 360x360 with 1 Axes>"
            ]
          },
          "metadata": {
            "tags": []
          }
        }
      ]
    }
  ]
}